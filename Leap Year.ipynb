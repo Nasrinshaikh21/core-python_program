{
 "cells": [
  {
   "cell_type": "code",
   "execution_count": 7,
   "id": "a89ae7d6-d5a6-4851-9cf1-241b42b3cde0",
   "metadata": {},
   "outputs": [
    {
     "name": "stdin",
     "output_type": "stream",
     "text": [
      "enter a year: 2020\n"
     ]
    },
    {
     "name": "stdout",
     "output_type": "stream",
     "text": [
      "2020 is a leap year\n"
     ]
    }
   ],
   "source": [
    "# check wheather leap year or not\n",
    "# Define Function\n",
    "def check_Leap_year(year):\n",
    "    if (year % 4 == 0 and year % 100!=0) or (year % 400 == 0):\n",
    "        return f\"{year} is a leap year\"\n",
    "    else:\n",
    "        return f\"{year} is not a leap year\"\n",
    "        #Define variable and print statement\n",
    "year = int(input(\"enter a year:\"))\n",
    "print(check_Leap_year(year))"
   ]
  },
  {
   "cell_type": "code",
   "execution_count": null,
   "id": "38444c01-6edb-49d1-82f2-5205dc61dd06",
   "metadata": {},
   "outputs": [],
   "source": []
  }
 ],
 "metadata": {
  "kernelspec": {
   "display_name": "Python 3 (ipykernel)",
   "language": "python",
   "name": "python3"
  },
  "language_info": {
   "codemirror_mode": {
    "name": "ipython",
    "version": 3
   },
   "file_extension": ".py",
   "mimetype": "text/x-python",
   "name": "python",
   "nbconvert_exporter": "python",
   "pygments_lexer": "ipython3",
   "version": "3.12.7"
  }
 },
 "nbformat": 4,
 "nbformat_minor": 5
}
