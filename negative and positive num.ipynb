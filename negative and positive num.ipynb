{
 "cells": [
  {
   "cell_type": "code",
   "execution_count": 21,
   "id": "f7ff323b-79a7-49b5-bcfc-1d9cd465c08d",
   "metadata": {},
   "outputs": [
    {
     "name": "stdin",
     "output_type": "stream",
     "text": [
      "enter a number 29\n"
     ]
    },
    {
     "name": "stdout",
     "output_type": "stream",
     "text": [
      "number is positive 29.0\n"
     ]
    }
   ],
   "source": [
    "# Positive Negative Number\n",
    "num=float(input(\"enter a number\"))\n",
    "if num>0:\n",
    " print(\"number is positive\",num)\n",
    "elif num<0:\n",
    " print(\"number is negative\",num)\n",
    "else:\n",
    " print (\"number is zero\",num)"
   ]
  },
  {
   "cell_type": "code",
   "execution_count": null,
   "id": "3a6baa1c-52fc-4da0-b677-9db91b05fe24",
   "metadata": {},
   "outputs": [],
   "source": []
  }
 ],
 "metadata": {
  "kernelspec": {
   "display_name": "Python 3 (ipykernel)",
   "language": "python",
   "name": "python3"
  },
  "language_info": {
   "codemirror_mode": {
    "name": "ipython",
    "version": 3
   },
   "file_extension": ".py",
   "mimetype": "text/x-python",
   "name": "python",
   "nbconvert_exporter": "python",
   "pygments_lexer": "ipython3",
   "version": "3.12.7"
  }
 },
 "nbformat": 4,
 "nbformat_minor": 5
}
