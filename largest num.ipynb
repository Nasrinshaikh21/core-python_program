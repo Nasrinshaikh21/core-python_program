{
 "cells": [
  {
   "cell_type": "code",
   "execution_count": 15,
   "id": "1e8a66cc-41a4-4c8f-b522-8704b2f2e463",
   "metadata": {},
   "outputs": [
    {
     "name": "stdin",
     "output_type": "stream",
     "text": [
      "enter number 1\n",
      "enter number 2\n",
      "enter number 3\n"
     ]
    },
    {
     "name": "stdout",
     "output_type": "stream",
     "text": [
      "3.0 is largest\n"
     ]
    }
   ],
   "source": [
    "def Large_num(num1 ,num2,num3):\n",
    "    if num1 >= num2 and num1 >= num3:\n",
    "        return f\"{num1} is largest\"\n",
    "    elif num2 >= num1 and num2 >= num3:\n",
    "        return f\"{num2} is largest\"\n",
    "    else:\n",
    "        return f\"{num3} is largest\"\n",
    "num1=float(input(\"enter number\"))\n",
    "num2=float(input(\"enter number\"))\n",
    "num3=float(input(\"enter number\"))\n",
    "print(Large_num(num1,num2,num3))\n"
   ]
  },
  {
   "cell_type": "code",
   "execution_count": null,
   "id": "09f00b7c-851f-47c0-9088-67170e667341",
   "metadata": {},
   "outputs": [],
   "source": []
  }
 ],
 "metadata": {
  "kernelspec": {
   "display_name": "Python 3 (ipykernel)",
   "language": "python",
   "name": "python3"
  },
  "language_info": {
   "codemirror_mode": {
    "name": "ipython",
    "version": 3
   },
   "file_extension": ".py",
   "mimetype": "text/x-python",
   "name": "python",
   "nbconvert_exporter": "python",
   "pygments_lexer": "ipython3",
   "version": "3.12.7"
  }
 },
 "nbformat": 4,
 "nbformat_minor": 5
}
