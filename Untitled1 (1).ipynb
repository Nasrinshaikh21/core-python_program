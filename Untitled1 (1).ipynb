{
 "cells": [
  {
   "cell_type": "code",
   "execution_count": 1,
   "id": "58f3d0af-5227-419c-9884-91e0608a681e",
   "metadata": {},
   "outputs": [
    {
     "name": "stdout",
     "output_type": "stream",
     "text": [
      "Sum of 5 and 3 is: 8\n",
      "Multiplication of 5 and 3 is: 15\n"
     ]
    }
   ],
   "source": [
    "# task 1\n",
    "# Define the two numbers\n",
    "num1 = 5\n",
    "num2 = 3\n",
    "\n",
    "# Calculate the sum of the two numbers\n",
    "sum_result = num1 + num2\n",
    "\n",
    "# Calculate the multiplication of the two numbers\n",
    "multiplication_result = num1 * num2\n",
    "\n",
    "# Print the results\n",
    "print(f\"Sum of {num1} and {num2} is: {sum_result}\")\n",
    "print(f\"Multiplication of {num1} and {num2} is: {multiplication_result}\")\n",
    "\n"
   ]
  },
  {
   "cell_type": "code",
   "execution_count": null,
   "id": "85606942-b957-4901-876a-07bb952ec275",
   "metadata": {},
   "outputs": [],
   "source": []
  }
 ],
 "metadata": {
  "kernelspec": {
   "display_name": "Python 3 (ipykernel)",
   "language": "python",
   "name": "python3"
  },
  "language_info": {
   "codemirror_mode": {
    "name": "ipython",
    "version": 3
   },
   "file_extension": ".py",
   "mimetype": "text/x-python",
   "name": "python",
   "nbconvert_exporter": "python",
   "pygments_lexer": "ipython3",
   "version": "3.12.7"
  }
 },
 "nbformat": 4,
 "nbformat_minor": 5
}
